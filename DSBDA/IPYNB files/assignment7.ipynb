{
 "cells": [
  {
   "cell_type": "code",
   "execution_count": null,
   "metadata": {},
   "outputs": [],
   "source": [
    "import nltk\n",
    "from nltk import word_tokenize\n",
    "from nltk import sent_tokenize\n",
    "nltk.download(\"punkt\")\n",
    "nltk.download(\"stopwords\")\n",
    "nltk.download(\"wordnet\")\n",
    "nltk.download(\"averaged_perceptron_tagger\")"
   ]
  },
  {
   "cell_type": "code",
   "execution_count": 46,
   "metadata": {},
   "outputs": [],
   "source": [
    "sentence=\"As the sun dipped below the horizon, casting hues of orange and pink across the sky, Sarah found herself lost in a reverie. The gentle rustle of leaves in the evening breeze provided a soothing soundtrack to her thoughts. Memories, both joyful and bittersweet, danced in her mind like fireflies in the twilight.\""
   ]
  },
  {
   "cell_type": "code",
   "execution_count": 47,
   "metadata": {},
   "outputs": [
    {
     "data": {
      "text/plain": [
       "['As',\n",
       " 'the',\n",
       " 'sun',\n",
       " 'dipped',\n",
       " 'below',\n",
       " 'the',\n",
       " 'horizon',\n",
       " ',',\n",
       " 'casting',\n",
       " 'hues',\n",
       " 'of',\n",
       " 'orange',\n",
       " 'and',\n",
       " 'pink',\n",
       " 'across',\n",
       " 'the',\n",
       " 'sky',\n",
       " ',',\n",
       " 'Sarah',\n",
       " 'found',\n",
       " 'herself',\n",
       " 'lost',\n",
       " 'in',\n",
       " 'a',\n",
       " 'reverie',\n",
       " '.',\n",
       " 'The',\n",
       " 'gentle',\n",
       " 'rustle',\n",
       " 'of',\n",
       " 'leaves',\n",
       " 'in',\n",
       " 'the',\n",
       " 'evening',\n",
       " 'breeze',\n",
       " 'provided',\n",
       " 'a',\n",
       " 'soothing',\n",
       " 'soundtrack',\n",
       " 'to',\n",
       " 'her',\n",
       " 'thoughts',\n",
       " '.',\n",
       " 'Memories',\n",
       " ',',\n",
       " 'both',\n",
       " 'joyful',\n",
       " 'and',\n",
       " 'bittersweet',\n",
       " ',',\n",
       " 'danced',\n",
       " 'in',\n",
       " 'her',\n",
       " 'mind',\n",
       " 'like',\n",
       " 'fireflies',\n",
       " 'in',\n",
       " 'the',\n",
       " 'twilight',\n",
       " '.']"
      ]
     },
     "execution_count": 47,
     "metadata": {},
     "output_type": "execute_result"
    }
   ],
   "source": [
    "word_token=word_tokenize(sentence)\n",
    "word_token"
   ]
  },
  {
   "cell_type": "code",
   "execution_count": 48,
   "metadata": {},
   "outputs": [
    {
     "data": {
      "text/plain": [
       "['As the sun dipped below the horizon, casting hues of orange and pink across the sky, Sarah found herself lost in a reverie.',\n",
       " 'The gentle rustle of leaves in the evening breeze provided a soothing soundtrack to her thoughts.',\n",
       " 'Memories, both joyful and bittersweet, danced in her mind like fireflies in the twilight.']"
      ]
     },
     "execution_count": 48,
     "metadata": {},
     "output_type": "execute_result"
    }
   ],
   "source": [
    "sent_token=sent_tokenize(sentence)\n",
    "sent_token"
   ]
  },
  {
   "cell_type": "code",
   "execution_count": 49,
   "metadata": {},
   "outputs": [],
   "source": [
    "from nltk.stem import PorterStemmer\n",
    "from nltk.stem import WordNetLemmatizer"
   ]
  },
  {
   "cell_type": "code",
   "execution_count": 50,
   "metadata": {},
   "outputs": [
    {
     "data": {
      "text/plain": [
       "'as the sun dipped below the horizon, casting hues of orange and pink across the sky, sarah found herself lost in a reverie. the gentle rustle of leaves in the evening breeze provided a soothing soundtrack to her thoughts. memories, both joyful and bittersweet, danced in her mind like fireflies in the twilight.'"
      ]
     },
     "execution_count": 50,
     "metadata": {},
     "output_type": "execute_result"
    }
   ],
   "source": [
    "porter=PorterStemmer()\n",
    "stemmer=porter.stem(sentence)\n",
    "stemmer"
   ]
  },
  {
   "cell_type": "code",
   "execution_count": 51,
   "metadata": {},
   "outputs": [
    {
     "data": {
      "text/plain": [
       "'As the sun dipped below the horizon, casting hues of orange and pink across the sky, Sarah found herself lost in a reverie. The gentle rustle of leaves in the evening breeze provided a soothing soundtrack to her thoughts. Memories, both joyful and bittersweet, danced in her mind like fireflies in the twilight.'"
      ]
     },
     "execution_count": 51,
     "metadata": {},
     "output_type": "execute_result"
    }
   ],
   "source": [
    "lemmatizer=WordNetLemmatizer()\n",
    "lemm=lemmatizer.lemmatize(sentence)\n",
    "lemm"
   ]
  },
  {
   "cell_type": "code",
   "execution_count": 52,
   "metadata": {},
   "outputs": [
    {
     "data": {
      "text/plain": [
       "[('As', 'IN'),\n",
       " ('the', 'DT'),\n",
       " ('sun', 'NN'),\n",
       " ('dipped', 'VBD'),\n",
       " ('below', 'IN'),\n",
       " ('the', 'DT'),\n",
       " ('horizon', 'NN'),\n",
       " (',', ','),\n",
       " ('casting', 'VBG'),\n",
       " ('hues', 'NNS'),\n",
       " ('of', 'IN'),\n",
       " ('orange', 'NN'),\n",
       " ('and', 'CC'),\n",
       " ('pink', 'VB'),\n",
       " ('across', 'IN'),\n",
       " ('the', 'DT'),\n",
       " ('sky', 'NN'),\n",
       " (',', ','),\n",
       " ('Sarah', 'NNP'),\n",
       " ('found', 'VBD'),\n",
       " ('herself', 'PRP'),\n",
       " ('lost', 'VBN'),\n",
       " ('in', 'IN'),\n",
       " ('a', 'DT'),\n",
       " ('reverie', 'NN'),\n",
       " ('.', '.'),\n",
       " ('The', 'DT'),\n",
       " ('gentle', 'JJ'),\n",
       " ('rustle', 'NN'),\n",
       " ('of', 'IN'),\n",
       " ('leaves', 'NNS'),\n",
       " ('in', 'IN'),\n",
       " ('the', 'DT'),\n",
       " ('evening', 'NN'),\n",
       " ('breeze', 'NN'),\n",
       " ('provided', 'VBD'),\n",
       " ('a', 'DT'),\n",
       " ('soothing', 'JJ'),\n",
       " ('soundtrack', 'NN'),\n",
       " ('to', 'TO'),\n",
       " ('her', 'PRP$'),\n",
       " ('thoughts', 'NNS'),\n",
       " ('.', '.'),\n",
       " ('Memories', 'NNS'),\n",
       " (',', ','),\n",
       " ('both', 'DT'),\n",
       " ('joyful', 'JJ'),\n",
       " ('and', 'CC'),\n",
       " ('bittersweet', 'NN'),\n",
       " (',', ','),\n",
       " ('danced', 'VBD'),\n",
       " ('in', 'IN'),\n",
       " ('her', 'PRP$'),\n",
       " ('mind', 'NN'),\n",
       " ('like', 'IN'),\n",
       " ('fireflies', 'NNS'),\n",
       " ('in', 'IN'),\n",
       " ('the', 'DT'),\n",
       " ('twilight', 'NN'),\n",
       " ('.', '.')]"
      ]
     },
     "execution_count": 52,
     "metadata": {},
     "output_type": "execute_result"
    }
   ],
   "source": [
    "from nltk import pos_tag\n",
    "pos=pos_tag(word_token)\n",
    "pos"
   ]
  },
  {
   "cell_type": "code",
   "execution_count": null,
   "metadata": {},
   "outputs": [],
   "source": [
    "from nltk.corpus import stopwords\n",
    "STOPWORDS=stopwords.words(\"english\")\n",
    "STOPWORDS"
   ]
  },
  {
   "cell_type": "code",
   "execution_count": 61,
   "metadata": {},
   "outputs": [
    {
     "name": "stdout",
     "output_type": "stream",
     "text": [
      "{('As', 'IN'): 1, ('the', 'DT'): 5, ('sun', 'NN'): 1, ('dipped', 'VBD'): 1, ('below', 'IN'): 1, ('horizon', 'NN'): 1, (',', ','): 4, ('casting', 'VBG'): 1, ('hues', 'NNS'): 1, ('of', 'IN'): 2, ('orange', 'NN'): 1, ('and', 'CC'): 2, ('pink', 'VB'): 1, ('across', 'IN'): 1, ('sky', 'NN'): 1, ('Sarah', 'NNP'): 1, ('found', 'VBD'): 1, ('herself', 'PRP'): 1, ('lost', 'VBN'): 1, ('in', 'IN'): 4, ('a', 'DT'): 2, ('reverie', 'NN'): 1, ('.', '.'): 3, ('The', 'DT'): 1, ('gentle', 'JJ'): 1, ('rustle', 'NN'): 1, ('leaves', 'NNS'): 1, ('evening', 'NN'): 1, ('breeze', 'NN'): 1, ('provided', 'VBD'): 1, ('soothing', 'JJ'): 1, ('soundtrack', 'NN'): 1, ('to', 'TO'): 1, ('her', 'PRP$'): 2, ('thoughts', 'NNS'): 1, ('Memories', 'NNS'): 1, ('both', 'DT'): 1, ('joyful', 'JJ'): 1, ('bittersweet', 'NN'): 1, ('danced', 'VBD'): 1, ('mind', 'NN'): 1, ('like', 'IN'): 1, ('fireflies', 'NNS'): 1, ('twilight', 'NN'): 1}\n"
     ]
    }
   ],
   "source": [
    "dictionary = {}\n",
    "for token in pos:\n",
    "    dictionary[token] = pos.count(token)\n",
    "print(dictionary)"
   ]
  }
 ],
 "metadata": {
  "kernelspec": {
   "display_name": "Python 3",
   "language": "python",
   "name": "python3"
  },
  "language_info": {
   "codemirror_mode": {
    "name": "ipython",
    "version": 3
   },
   "file_extension": ".py",
   "mimetype": "text/x-python",
   "name": "python",
   "nbconvert_exporter": "python",
   "pygments_lexer": "ipython3",
   "version": "3.11.3"
  }
 },
 "nbformat": 4,
 "nbformat_minor": 2
}
